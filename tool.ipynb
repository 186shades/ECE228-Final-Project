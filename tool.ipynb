{
 "cells": [
  {
   "cell_type": "code",
   "execution_count": 48,
   "metadata": {},
   "outputs": [],
   "source": [
    "import numpy as np\n",
    "import matplotlib.pyplot as plt\n",
    "import torch\n",
    "import torch.nn as nn\n",
    "import torch.nn.functional as F\n",
    "import os\n",
    "import pandas as pd\n",
    "from torch.utils.data import Dataset, DataLoader\n",
    "import cv2\n",
    "import time\n",
    "import seaborn as sns\n",
    "import torch.optim as optim\n",
    "from torch.cuda.amp import GradScaler, autocast"
   ]
  },
  {
   "cell_type": "code",
   "execution_count": 49,
   "metadata": {},
   "outputs": [],
   "source": [
    "# Define the DatasetCreator at the top level\n",
    "class DatasetCreator(Dataset):\n",
    "    def __init__(self, spec_path, labels_path, image_size, channels=3):\n",
    "        self.df = pd.read_csv(labels_path, index_col=0)\n",
    "        self.df['tool'] = self.df.index.map(lambda id: f'{spec_path}/tool/{id}.jpg')\n",
    "        self.image_size = image_size\n",
    "        self.channels = channels\n",
    "\n",
    "    def __get_df__(self):\n",
    "        return self.df\n",
    "\n",
    "    def __len__(self):\n",
    "        return len(self.df.index)\n",
    "\n",
    "    def __getitem__(self, idx):\n",
    "        image_path = self.df.iloc[idx]['tool']\n",
    "        img = cv2.imread(image_path)\n",
    "        res = cv2.resize(img, dsize=(self.image_size, self.image_size), interpolation=cv2.INTER_CUBIC)\n",
    "        image_tensor = torch.tensor(res).float().permute(2, 0, 1)  # play nice with Pytorch (convert to CHW)\n",
    "\n",
    "        label = self.df.iloc[idx]['tool_label']\n",
    "\n",
    "        return image_tensor, label - 1"
   ]
  },
  {
   "cell_type": "code",
   "execution_count": 50,
   "metadata": {},
   "outputs": [],
   "source": [
    "#fixed variables\n",
    "image_size = 256 #could potentially change\n",
    "channels = 3\n",
    "num_classes = 3\n",
    "cnn_out_channels = 64"
   ]
  },
  {
   "cell_type": "code",
   "execution_count": 51,
   "metadata": {},
   "outputs": [],
   "source": [
    "#adjustable variables\n",
    "learning_rate = 0.001\n",
    "weight_decay = 0.0001\n",
    "batch_size = 32 #changing this from 64 to 32 worked magic for some reason\n",
    "num_epochs = 10"
   ]
  },
  {
   "cell_type": "code",
   "execution_count": 52,
   "metadata": {},
   "outputs": [],
   "source": [
    "#init data\n",
    "spec_path = \"./dataset_aug\"\n",
    "labels_path = \"./labels_aug/random_distribution\" # or \"./labels_aug/tool_distribution\"\n",
    "\n",
    "train_dataset = DatasetCreator(spec_path, os.path.join(labels_path, \"train.csv\"), image_size, channels)\n",
    "train_dataloader = DataLoader(train_dataset, batch_size=batch_size, shuffle=True, num_workers=0)  # Set num_workers=0 for now\n",
    "\n",
    "test_dataset = DatasetCreator(spec_path, os.path.join(labels_path, \"test.csv\"), image_size, channels)\n",
    "test_dataloader = DataLoader(test_dataset, batch_size=batch_size, shuffle=False, num_workers=0)\n",
    "\n",
    "val_dataset = DatasetCreator(spec_path, os.path.join(labels_path, \"val.csv\"), image_size, channels)\n",
    "val_dataloader = DataLoader(val_dataset, batch_size=batch_size, shuffle=False, num_workers=0)"
   ]
  },
  {
   "cell_type": "code",
   "execution_count": 53,
   "metadata": {},
   "outputs": [
    {
     "name": "stdout",
     "output_type": "stream",
     "text": [
      "2460 48 54\n"
     ]
    }
   ],
   "source": [
    "print(len(train_dataset), len(test_dataset), len(val_dataset))"
   ]
  },
  {
   "cell_type": "code",
   "execution_count": 54,
   "metadata": {},
   "outputs": [
    {
     "data": {
      "text/html": [
       "<div>\n",
       "<style scoped>\n",
       "    .dataframe tbody tr th:only-of-type {\n",
       "        vertical-align: middle;\n",
       "    }\n",
       "\n",
       "    .dataframe tbody tr th {\n",
       "        vertical-align: top;\n",
       "    }\n",
       "\n",
       "    .dataframe thead th {\n",
       "        text-align: right;\n",
       "    }\n",
       "</style>\n",
       "<table border=\"1\" class=\"dataframe\">\n",
       "  <thead>\n",
       "    <tr style=\"text-align: right;\">\n",
       "      <th></th>\n",
       "      <th>image_label</th>\n",
       "      <th>tool_label</th>\n",
       "      <th>tool</th>\n",
       "    </tr>\n",
       "    <tr>\n",
       "      <th>id</th>\n",
       "      <th></th>\n",
       "      <th></th>\n",
       "      <th></th>\n",
       "    </tr>\n",
       "  </thead>\n",
       "  <tbody>\n",
       "    <tr>\n",
       "      <th>T6R1B4</th>\n",
       "      <td>sharp</td>\n",
       "      <td>1</td>\n",
       "      <td>./dataset_aug/tool/T6R1B4.jpg</td>\n",
       "    </tr>\n",
       "    <tr>\n",
       "      <th>T2R3B2</th>\n",
       "      <td>sharp</td>\n",
       "      <td>1</td>\n",
       "      <td>./dataset_aug/tool/T2R3B2.jpg</td>\n",
       "    </tr>\n",
       "    <tr>\n",
       "      <th>T9R11B1</th>\n",
       "      <td>used</td>\n",
       "      <td>2</td>\n",
       "      <td>./dataset_aug/tool/T9R11B1.jpg</td>\n",
       "    </tr>\n",
       "    <tr>\n",
       "      <th>T9R3B1</th>\n",
       "      <td>sharp</td>\n",
       "      <td>1</td>\n",
       "      <td>./dataset_aug/tool/T9R3B1.jpg</td>\n",
       "    </tr>\n",
       "    <tr>\n",
       "      <th>T6R2B4</th>\n",
       "      <td>sharp</td>\n",
       "      <td>1</td>\n",
       "      <td>./dataset_aug/tool/T6R2B4.jpg</td>\n",
       "    </tr>\n",
       "  </tbody>\n",
       "</table>\n",
       "</div>"
      ],
      "text/plain": [
       "        image_label  tool_label                            tool\n",
       "id                                                             \n",
       "T6R1B4        sharp           1   ./dataset_aug/tool/T6R1B4.jpg\n",
       "T2R3B2        sharp           1   ./dataset_aug/tool/T2R3B2.jpg\n",
       "T9R11B1        used           2  ./dataset_aug/tool/T9R11B1.jpg\n",
       "T9R3B1        sharp           1   ./dataset_aug/tool/T9R3B1.jpg\n",
       "T6R2B4        sharp           1   ./dataset_aug/tool/T6R2B4.jpg"
      ]
     },
     "execution_count": 54,
     "metadata": {},
     "output_type": "execute_result"
    }
   ],
   "source": [
    "df_train = train_dataset.__get_df__()\n",
    "df_train.head()"
   ]
  },
  {
   "cell_type": "code",
   "execution_count": 55,
   "metadata": {},
   "outputs": [],
   "source": [
    "class SimpleCNN(nn.Module):\n",
    "    def __init__(self, in_channels=3, num_classes=3, cnn_out_channels=64):\n",
    "        super(SimpleCNN, self).__init__()\n",
    "        self.conv1 = nn.Conv2d(in_channels, cnn_out_channels, kernel_size=3, stride=1, padding=1)\n",
    "        self.bn1 = nn.BatchNorm2d(cnn_out_channels)\n",
    "        self.conv2 = nn.Conv2d(cnn_out_channels, cnn_out_channels, kernel_size=3, stride=1, padding=1)\n",
    "        self.bn2 = nn.BatchNorm2d(cnn_out_channels)\n",
    "        self.pool = nn.MaxPool2d(2, 2)\n",
    "        self.dropout = nn.Dropout(0.5)\n",
    "        self.fc1 = nn.Linear(cnn_out_channels * (image_size // 4) ** 2, 128)\n",
    "        self.fc2 = nn.Linear(128, num_classes)\n",
    "\n",
    "    def forward(self, x):\n",
    "        x = self.pool(F.relu(self.bn1(self.conv1(x))))\n",
    "        x = self.pool(F.relu(self.bn2(self.conv2(x))))\n",
    "        x = self.dropout(x)\n",
    "        x = x.view(x.size(0), -1)\n",
    "        x = F.relu(self.fc1(x))\n",
    "        x = self.fc2(x)\n",
    "        return x"
   ]
  },
  {
   "cell_type": "code",
   "execution_count": 56,
   "metadata": {},
   "outputs": [],
   "source": [
    "#init model, loss function, optimizer\n",
    "model = SimpleCNN(in_channels=channels, num_classes=num_classes, cnn_out_channels=cnn_out_channels)\n",
    "loss_func = nn.CrossEntropyLoss()\n",
    "optimizer = optim.Adam(model.parameters(), lr=learning_rate, weight_decay=weight_decay)\n",
    "scaler = GradScaler(enabled=torch.cuda.is_available())  # Only enable if CUDA is available"
   ]
  },
  {
   "cell_type": "code",
   "execution_count": 57,
   "metadata": {},
   "outputs": [
    {
     "name": "stdout",
     "output_type": "stream",
     "text": [
      "Using cpu\n"
     ]
    }
   ],
   "source": [
    "device = torch.device('cuda' if torch.cuda.is_available() else 'cpu')\n",
    "print(f\"Using {device}\")"
   ]
  },
  {
   "cell_type": "code",
   "execution_count": 58,
   "metadata": {},
   "outputs": [],
   "source": [
    "#train and eval functions\n",
    "def train(model, dataloader, optimizer, loss_func, device):\n",
    "    model.train()\n",
    "    model = model.to(device)\n",
    "    total_loss, total_count, acc_count = 0, 0, 0\n",
    "\n",
    "    for X, y in dataloader:\n",
    "        X = X.to(device)\n",
    "        y = y.to(device)\n",
    "\n",
    "        optimizer.zero_grad()\n",
    "        with autocast(enabled=torch.cuda.is_available()):\n",
    "            y_pred = model(X)\n",
    "            loss = loss_func(y_pred, y)\n",
    "\n",
    "        scaler.scale(loss).backward()\n",
    "        scaler.step(optimizer)\n",
    "        scaler.update()\n",
    "\n",
    "        total_loss += loss.item()\n",
    "        total_count += X.size(0)\n",
    "\n",
    "        _, y_pred_class = y_pred.max(dim=1)\n",
    "        acc_count += (y_pred_class == y).sum().item()\n",
    "\n",
    "    return total_loss / total_count, acc_count / total_count\n",
    "\n",
    "def evaluate(model, dataloader, loss_func, device):\n",
    "    model.eval()\n",
    "    model = model.to(device)\n",
    "    total_loss, total_count, acc_count = 0, 0, 0\n",
    "\n",
    "    with torch.no_grad():\n",
    "        for X, y in dataloader:\n",
    "            X = X.to(device)\n",
    "            y = y.to(device)\n",
    "\n",
    "            with autocast(enabled=torch.cuda.is_available()):\n",
    "                y_pred = model(X)\n",
    "                loss = loss_func(y_pred, y)\n",
    "\n",
    "            total_loss += loss.item()\n",
    "            total_count += X.size(0)\n",
    "\n",
    "            _, y_pred_class = y_pred.max(dim=1)\n",
    "            acc_count += (y_pred_class == y).sum().item()\n",
    "\n",
    "    return total_loss / total_count, acc_count / total_count"
   ]
  },
  {
   "cell_type": "code",
   "execution_count": 59,
   "metadata": {},
   "outputs": [
    {
     "name": "stdout",
     "output_type": "stream",
     "text": [
      "======================================================================================================\n",
      "| Epoch 1/10 | time: 134.134 | Train Loss: 0.223 | Val Loss: 0.043 | Train Acc: 0.513 | Val Acc: 0.556 |\n",
      "======================================================================================================\n",
      "| Epoch 2/10 | time: 131.831 | Train Loss: 0.030 | Val Loss: 0.034 | Train Acc: 0.587 | Val Acc: 0.630 |\n",
      "======================================================================================================\n",
      "| Epoch 3/10 | time: 132.538 | Train Loss: 0.025 | Val Loss: 0.029 | Train Acc: 0.621 | Val Acc: 0.667 |\n",
      "======================================================================================================\n",
      "| Epoch 4/10 | time: 131.692 | Train Loss: 0.021 | Val Loss: 0.026 | Train Acc: 0.690 | Val Acc: 0.704 |\n",
      "======================================================================================================\n",
      "| Epoch 5/10 | time: 131.789 | Train Loss: 0.021 | Val Loss: 0.022 | Train Acc: 0.682 | Val Acc: 0.815 |\n",
      "======================================================================================================\n",
      "| Epoch 6/10 | time: 131.796 | Train Loss: 0.016 | Val Loss: 0.017 | Train Acc: 0.771 | Val Acc: 0.796 |\n",
      "======================================================================================================\n",
      "| Epoch 7/10 | time: 132.147 | Train Loss: 0.013 | Val Loss: 0.023 | Train Acc: 0.822 | Val Acc: 0.759 |\n",
      "======================================================================================================\n",
      "| Epoch 8/10 | time: 133.526 | Train Loss: 0.014 | Val Loss: 0.018 | Train Acc: 0.820 | Val Acc: 0.778 |\n",
      "======================================================================================================\n",
      "| Epoch 9/10 | time: 133.887 | Train Loss: 0.012 | Val Loss: 0.017 | Train Acc: 0.828 | Val Acc: 0.796 |\n",
      "======================================================================================================\n",
      "| Epoch 10/10 | time: 132.596 | Train Loss: 0.009 | Val Loss: 0.013 | Train Acc: 0.889 | Val Acc: 0.852 |\n"
     ]
    }
   ],
   "source": [
    "#training loop\n",
    "train_loss_epochs = []\n",
    "val_loss_epochs = []\n",
    "train_acc_epochs = []\n",
    "val_acc_epochs = []\n",
    "\n",
    "for epoch in range(num_epochs):\n",
    "    start = time.time()\n",
    "    loss_train, train_acc = train(model, train_dataloader, optimizer, loss_func, device)\n",
    "    loss_val, val_acc = evaluate(model, val_dataloader, loss_func, device)\n",
    "\n",
    "    train_loss_epochs.append(loss_train)\n",
    "    val_loss_epochs.append(loss_val)\n",
    "    train_acc_epochs.append(train_acc)\n",
    "    val_acc_epochs.append(val_acc)\n",
    "    end = time.time()\n",
    "\n",
    "    print(\"=\" * 102)\n",
    "    print(f\"| Epoch {epoch+1}/{num_epochs} | time: {(end-start):.3f} | Train Loss: {loss_train:.3f} | Val Loss: {loss_val:.3f} | Train Acc: {train_acc:.3f} | Val Acc: {val_acc:.3f} |\")\n"
   ]
  },
  {
   "cell_type": "code",
   "execution_count": 60,
   "metadata": {},
   "outputs": [
    {
     "name": "stdout",
     "output_type": "stream",
     "text": [
      "Test Accuracy:  0.7916666666666666\n"
     ]
    }
   ],
   "source": [
    "test_loss, test_acc = evaluate(model, test_dataloader, loss_func, device)\n",
    "print(\"Test Accuracy: \", test_acc)"
   ]
  },
  {
   "cell_type": "code",
   "execution_count": 61,
   "metadata": {},
   "outputs": [],
   "source": [
    "#save loss and accuracy\n",
    "torch.save(model.state_dict(), \"./model\")\n",
    "torch.save(train_loss_epochs, \"./train_loss_epochs.pt\")\n",
    "torch.save(val_loss_epochs, \"./val_loss_epochs.pt\")\n",
    "torch.save(train_acc_epochs, \"./train_acc_epochs.pt\")\n",
    "torch.save(val_acc_epochs, \"./val_acc_epochs.pt\")"
   ]
  },
  {
   "cell_type": "code",
   "execution_count": 62,
   "metadata": {},
   "outputs": [
    {
     "data": {
      "image/png": "[encoded data removed]",
      "text/plain": [
       "<Figure size 640x480 with 1 Axes>"
      ]
     },
     "metadata": {},
     "output_type": "display_data"
    },
    {
     "data": {
      "image/png": "[encoded data removed]",
      "text/plain": [
       "<Figure size 640x480 with 1 Axes>"
      ]
     },
     "metadata": {},
     "output_type": "display_data"
    }
   ],
   "source": [
    "#plot Epoch vs. Loss\n",
    "plt.plot(train_loss_epochs, label=\"Train\")\n",
    "plt.plot(val_loss_epochs, label=\"Validation\")\n",
    "plt.title(\"Epoch vs Loss\")\n",
    "plt.xlabel(\"Epochs\")\n",
    "plt.ylabel(\"Loss\")\n",
    "plt.legend()\n",
    "plt.grid()\n",
    "plt.show()\n",
    "\n",
    "#plot Epoch vs. Accuracy\n",
    "plt.plot(train_acc_epochs, label=\"Train\")\n",
    "plt.plot(val_acc_epochs, label=\"Validation\")\n",
    "plt.title(\"Epoch vs Accuracy\")\n",
    "plt.xlabel(\"Epochs\")\n",
    "plt.ylabel(\"Accuracy\")\n",
    "plt.legend()\n",
    "plt.grid()\n",
    "plt.show()"
   ]
  }
 ],
 "metadata": {
  "kernelspec": {
   "display_name": "Python 3",
   "language": "python",
   "name": "python3"
  },
  "language_info": {
   "codemirror_mode": {
    "name": "ipython",
    "version": 3
   },
   "file_extension": ".py",
   "mimetype": "text/x-python",
   "name": "python",
   "nbconvert_exporter": "python",
   "pygments_lexer": "ipython3",
   "version": "3.12.1"
  }
 },
 "nbformat": 4,
 "nbformat_minor": 2
}
